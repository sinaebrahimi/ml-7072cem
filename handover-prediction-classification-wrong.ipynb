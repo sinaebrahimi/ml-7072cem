{
 "cells": [
  {
   "cell_type": "code",
   "execution_count": 1,
   "id": "b80e1bbf",
   "metadata": {
    "_cell_guid": "b1076dfc-b9ad-4769-8c92-a6c4dae69d19",
    "_uuid": "8f2839f25d086af736a60e9eeb907d3b93b6e0e5",
    "execution": {
     "iopub.execute_input": "2024-03-11T09:48:16.579162Z",
     "iopub.status.busy": "2024-03-11T09:48:16.578412Z",
     "iopub.status.idle": "2024-03-11T09:48:17.705298Z",
     "shell.execute_reply": "2024-03-11T09:48:17.703344Z"
    },
    "papermill": {
     "duration": 1.138328,
     "end_time": "2024-03-11T09:48:17.708396",
     "exception": false,
     "start_time": "2024-03-11T09:48:16.570068",
     "status": "completed"
    },
    "tags": []
   },
   "outputs": [
    {
     "name": "stdout",
     "output_type": "stream",
     "text": [
      "/kaggle/input/vehicular-mobility-trace-at-seoul-sparse/sparse.csv\n",
      "/kaggle/input/vehicular-mobility-trace-at-seoul-sparse/Readme_sparse.md\n"
     ]
    }
   ],
   "source": [
    "# This Python 3 environment comes with many helpful analytics libraries installed\n",
    "# It is defined by the kaggle/python Docker image: https://github.com/kaggle/docker-python\n",
    "# For example, here's several helpful packages to load\n",
    "\n",
    "import numpy as np # linear algebra\n",
    "import pandas as pd # data processing, CSV file I/O (e.g. pd.read_csv)\n",
    "\n",
    "# Input data files are available in the read-only \"../input/\" directory\n",
    "# For example, running this (by clicking run or pressing Shift+Enter) will list all files under the input directory\n",
    "\n",
    "import os\n",
    "for dirname, _, filenames in os.walk('/kaggle/input'):\n",
    "    for filename in filenames:\n",
    "        print(os.path.join(dirname, filename))\n",
    "\n",
    "# You can write up to 20GB to the current directory (/kaggle/working/) that gets preserved as output when you create a version using \"Save & Run All\" \n",
    "# You can also write temporary files to /kaggle/temp/, but they won't be saved outside of the current session"
   ]
  },
  {
   "cell_type": "code",
   "execution_count": 2,
   "id": "39820009",
   "metadata": {
    "execution": {
     "iopub.execute_input": "2024-03-11T09:48:17.724393Z",
     "iopub.status.busy": "2024-03-11T09:48:17.722683Z",
     "iopub.status.idle": "2024-03-11T09:48:23.351232Z",
     "shell.execute_reply": "2024-03-11T09:48:23.349914Z"
    },
    "papermill": {
     "duration": 5.639759,
     "end_time": "2024-03-11T09:48:23.354468",
     "exception": false,
     "start_time": "2024-03-11T09:48:17.714709",
     "status": "completed"
    },
    "tags": []
   },
   "outputs": [],
   "source": [
    "import pandas as pd\n",
    "import numpy as np\n",
    "import matplotlib.pyplot as plt\n",
    "\n",
    "from sklearn.linear_model import LinearRegression\n",
    "from sklearn.model_selection import train_test_split\n",
    "\n",
    "# Load your data\n",
    "df = pd.read_csv('/kaggle/input/vehicular-mobility-trace-at-seoul-sparse/sparse.csv')"
   ]
  },
  {
   "cell_type": "markdown",
   "id": "b1ee1ff3",
   "metadata": {
    "papermill": {
     "duration": 0.005297,
     "end_time": "2024-03-11T09:48:23.365334",
     "exception": false,
     "start_time": "2024-03-11T09:48:23.360037",
     "status": "completed"
    },
    "tags": []
   },
   "source": [
    "Now, we'll load our data. Data is procured from [IEEE Dataport](https://ieee-dataport.org/open-access/vehicular-mobility-trace-seoul-south-korea).\n",
    "\n",
    " [\\[Reference Paper\\]](https://doi.org/10.1109/LCOMM.2020.3032753).\n",
    "\n",
    " Our data is time-series based and presents different features of vehicles, such as coordinates, angle, lane, speed, etc.\n",
    " Our objective is to predict radio handover of these vehicles in the next time step. We will discuss it further in future.\n",
    " \n",
    " So, let's evaluate the data a little bit!\n"
   ]
  },
  {
   "cell_type": "code",
   "execution_count": 3,
   "id": "b0bbc2a4",
   "metadata": {
    "execution": {
     "iopub.execute_input": "2024-03-11T09:48:23.378741Z",
     "iopub.status.busy": "2024-03-11T09:48:23.378107Z",
     "iopub.status.idle": "2024-03-11T09:48:23.554039Z",
     "shell.execute_reply": "2024-03-11T09:48:23.551884Z"
    },
    "papermill": {
     "duration": 0.18592,
     "end_time": "2024-03-11T09:48:23.556796",
     "exception": false,
     "start_time": "2024-03-11T09:48:23.370876",
     "status": "completed"
    },
    "tags": []
   },
   "outputs": [
    {
     "name": "stdout",
     "output_type": "stream",
     "text": [
      "Max x: 1420.58\n",
      "Row for max x:\n",
      "time            2198.0\n",
      "id             veh2549\n",
      "x              1420.58\n",
      "y              1661.63\n",
      "angle            90.54\n",
      "type     veh_passenger\n",
      "speed            17.04\n",
      "pos             362.49\n",
      "lane     218919060#1_0\n",
      "slope              0.0\n",
      "Name: 428232, dtype: object\n",
      "\n",
      "------------------------------------\n",
      "\n",
      "Min x: 2.14\n",
      "Row for min x:\n",
      "time             117.0\n",
      "id              veh141\n",
      "x                 2.14\n",
      "y              1666.14\n",
      "angle            60.79\n",
      "type     veh_passenger\n",
      "speed            17.85\n",
      "pos                5.1\n",
      "lane     621513156#0_3\n",
      "slope              0.0\n",
      "Name: 5684, dtype: object\n",
      "\n",
      "------------------------------------\n",
      "\n",
      "Max y: 2212.71\n",
      "Row for max y:\n",
      "time             384.0\n",
      "id              veh389\n",
      "x               509.39\n",
      "y              2212.71\n",
      "angle             0.17\n",
      "type     veh_passenger\n",
      "speed            30.96\n",
      "pos             361.39\n",
      "lane       616037664_3\n",
      "slope              0.0\n",
      "Name: 29667, dtype: object\n",
      "\n",
      "------------------------------------\n",
      "\n",
      "Min y: 820.68\n",
      "Row for min y:\n",
      "time             2628.0\n",
      "id              veh3051\n",
      "x                859.29\n",
      "y                820.68\n",
      "angle            206.09\n",
      "type      veh_passenger\n",
      "speed             15.88\n",
      "pos              292.82\n",
      "lane     -708672701#0_1\n",
      "slope               0.0\n",
      "Name: 563510, dtype: object\n",
      "\n",
      "------------------------------------\n",
      "\n",
      "Max speed: 37.38\n",
      "Row for max speed:\n",
      "time            3880.0\n",
      "id             veh3486\n",
      "x               515.67\n",
      "y              2173.05\n",
      "angle             0.17\n",
      "type     veh_passenger\n",
      "speed            37.38\n",
      "pos             321.75\n",
      "lane       616037664_1\n",
      "slope              0.0\n",
      "Name: 1074600, dtype: object\n",
      "\n",
      "------------------------------------\n",
      "\n",
      "Min speed: 0.0\n",
      "Row for min speed:\n",
      "time               0.0\n",
      "id                veh0\n",
      "x               501.42\n",
      "y              1473.12\n",
      "angle             0.29\n",
      "type     veh_passenger\n",
      "speed              0.0\n",
      "pos                5.1\n",
      "lane     378453707#7_0\n",
      "slope              0.0\n",
      "Name: 0, dtype: object\n",
      "\n",
      "------------------------------------\n",
      "\n",
      "Number of distinct vehicles: 3592\n"
     ]
    }
   ],
   "source": [
    "# Assuming `df` is your DataFrame\n",
    "\n",
    "# Find the max and min of 'x'\n",
    "max_x = df['x'].max()\n",
    "min_x = df['x'].min()\n",
    "\n",
    "# Find the row for max and min 'x'\n",
    "row_max_x = df.loc[df['x'].idxmax()]\n",
    "row_min_x = df.loc[df['x'].idxmin()]\n",
    "\n",
    "# Find the max and min of 'y'\n",
    "max_y = df['y'].max()\n",
    "min_y = df['y'].min()\n",
    "\n",
    "# Find the row for max and min 'y'\n",
    "row_max_y = df.loc[df['y'].idxmax()]\n",
    "row_min_y = df.loc[df['y'].idxmin()]\n",
    "\n",
    "# Find the max and min of 'speed'\n",
    "max_speed = df['speed'].max()\n",
    "min_speed = df['speed'].min()\n",
    "\n",
    "# Find the row for max and min 'speed'\n",
    "row_max_speed = df.loc[df['speed'].idxmax()]\n",
    "row_min_speed = df.loc[df['speed'].idxmin()]\n",
    "\n",
    "# Print the results\n",
    "print(f\"Max x: {max_x}\\nRow for max x:\\n{row_max_x}\\n\")\n",
    "print(\"------------------------------------\\n\")\n",
    "print(f\"Min x: {min_x}\\nRow for min x:\\n{row_min_x}\\n\")\n",
    "print(\"------------------------------------\\n\")\n",
    "print(f\"Max y: {max_y}\\nRow for max y:\\n{row_max_y}\\n\")\n",
    "print(\"------------------------------------\\n\")\n",
    "print(f\"Min y: {min_y}\\nRow for min y:\\n{row_min_y}\\n\")\n",
    "print(\"------------------------------------\\n\")\n",
    "print(f\"Max speed: {max_speed}\\nRow for max speed:\\n{row_max_speed}\\n\")\n",
    "print(\"------------------------------------\\n\")\n",
    "print(f\"Min speed: {min_speed}\\nRow for min speed:\\n{row_min_speed}\\n\")\n",
    "print(\"------------------------------------\\n\")\n",
    "\n",
    "# Find the number of distinct vehicles\n",
    "num_vehicles = df['id'].nunique()\n",
    "\n",
    "# Print the number of distinct vehicles\n",
    "print(f\"Number of distinct vehicles: {num_vehicles}\")"
   ]
  },
  {
   "cell_type": "markdown",
   "id": "19f51946",
   "metadata": {
    "papermill": {
     "duration": 0.005437,
     "end_time": "2024-03-11T09:48:23.568078",
     "exception": false,
     "start_time": "2024-03-11T09:48:23.562641",
     "status": "completed"
    },
    "tags": []
   },
   "source": [
    "Now let's visulize the data (where are the vehicles in our 1500*2500m area?)"
   ]
  },
  {
   "cell_type": "code",
   "execution_count": 4,
   "id": "5f55fd13",
   "metadata": {
    "execution": {
     "iopub.execute_input": "2024-03-11T09:48:23.581600Z",
     "iopub.status.busy": "2024-03-11T09:48:23.581135Z",
     "iopub.status.idle": "2024-03-11T09:48:24.717204Z",
     "shell.execute_reply": "2024-03-11T09:48:24.715775Z"
    },
    "papermill": {
     "duration": 1.146274,
     "end_time": "2024-03-11T09:48:24.719946",
     "exception": false,
     "start_time": "2024-03-11T09:48:23.573672",
     "status": "completed"
    },
    "tags": []
   },
   "outputs": [
    {
     "data": {
      "image/png": "[encoded data removed]",
      "text/plain": [
       "<Figure size 640x480 with 1 Axes>"
      ]
     },
     "metadata": {},
     "output_type": "display_data"
    }
   ],
   "source": [
    "# Create a scatter plot of the vehicles\n",
    "X_LIM = 1500\n",
    "Y_LIM = 2500\n",
    "\n",
    "plt.scatter(df['x'], df['y'], s=1)  # s parameter is used to make the points smaller\n",
    "\n",
    "plt.xlim(0, X_LIM)\n",
    "plt.ylim(0, Y_LIM)\n",
    "plt.xlabel('X')\n",
    "plt.ylabel('Y')\n",
    "plt.title('Vehicles')\n",
    "plt.grid(True)\n",
    "plt.show()"
   ]
  },
  {
   "cell_type": "markdown",
   "id": "df2b9dbd",
   "metadata": {
    "papermill": {
     "duration": 0.005987,
     "end_time": "2024-03-11T09:48:24.732373",
     "exception": false,
     "start_time": "2024-03-11T09:48:24.726386",
     "status": "completed"
    },
    "tags": []
   },
   "source": [
    "First, we'll define where our base stations (BS) will be. We'll define 20 BSs in the 1500*2500m area of this problem."
   ]
  },
  {
   "cell_type": "code",
   "execution_count": 5,
   "id": "182c33d1",
   "metadata": {
    "execution": {
     "iopub.execute_input": "2024-03-11T09:48:24.747510Z",
     "iopub.status.busy": "2024-03-11T09:48:24.747079Z",
     "iopub.status.idle": "2024-03-11T09:48:25.894648Z",
     "shell.execute_reply": "2024-03-11T09:48:25.892705Z"
    },
    "papermill": {
     "duration": 1.158711,
     "end_time": "2024-03-11T09:48:25.897333",
     "exception": false,
     "start_time": "2024-03-11T09:48:24.738622",
     "status": "completed"
    },
    "tags": []
   },
   "outputs": [
    {
     "data": {
      "image/png": "[encoded data removed]",
      "text/plain": [
       "<Figure size 640x480 with 1 Axes>"
      ]
     },
     "metadata": {},
     "output_type": "display_data"
    },
    {
     "name": "stdout",
     "output_type": "stream",
     "text": [
      "   time    id       x        y  angle           type  speed  pos  \\\n",
      "0   0.0  veh0  501.42  1473.12   0.29  veh_passenger    0.0  5.1   \n",
      "\n",
      "            lane  slope  \n",
      "0  378453707#7_0    0.0  \n"
     ]
    }
   ],
   "source": [
    "# Define the limits\n",
    "#X_LIM = 1500\n",
    "#Y_LIM = 2500\n",
    "#based on vehicle map\n",
    "X_MIN, X_MAX = 2.14, 1420.58\n",
    "Y_MIN, Y_MAX = 820.68, 2212.71\n",
    "\n",
    "# Define the number of BSs\n",
    "num_BSs = 20\n",
    "\n",
    "# Calculate the number of rows and columns in the grid\n",
    "num_rows = num_cols = int(np.sqrt(num_BSs))\n",
    "\n",
    "# Calculate the width and height of each cell\n",
    "cell_width = (X_MAX - X_MIN) / num_cols\n",
    "cell_height = (Y_MAX - Y_MIN) / num_rows\n",
    "\n",
    "# Calculate the coordinates of the BSs\n",
    "BSs = {}\n",
    "for i in range(num_rows):\n",
    "    for j in range(num_cols):\n",
    "        x = X_MIN + j * cell_width + cell_width / 2\n",
    "        y = Y_MIN + i * cell_height + cell_height / 2\n",
    "        BSs[f'BS{i*num_cols+j+1}'] = (x, y)\n",
    "\n",
    "        \n",
    "# Create a scatter plot of the BSs\n",
    "for bs, (x, y) in BSs.items():\n",
    "    plt.scatter(x, y, label=bs, color='red')\n",
    "\n",
    "# Create a scatter plot of the vehicles\n",
    "plt.scatter(df['x'], df['y'], s=1, color='blue')  # s parameter is used to make the points smaller\n",
    "\n",
    "plt.xlim(0, 1500) #plt.xlim(X_MIN, X_MAX)\n",
    "plt.ylim(0, 2500) #plt.ylim(Y_MIN, Y_MAX)\n",
    "plt.xlabel('X')\n",
    "plt.ylabel('Y')\n",
    "plt.title('Base Stations and Vehicles')\n",
    "plt.grid(True)\n",
    "plt.show()\n",
    "\n",
    "# Assuming df is your DataFrame and you want to print the first row\n",
    "print(df.iloc[[0]])"
   ]
  },
  {
   "cell_type": "markdown",
   "id": "e45853b6",
   "metadata": {
    "papermill": {
     "duration": 0.006553,
     "end_time": "2024-03-11T09:48:25.911242",
     "exception": false,
     "start_time": "2024-03-11T09:48:25.904689",
     "status": "completed"
    },
    "tags": []
   },
   "source": [
    "So, let's define new features.\n",
    "First, 20 columns will be added, each for one of the BSs, which would have the distance between the user and that BS at that time step.\n",
    "Then, the feature 'BS' would determine that the user is assigned to which BS (The BS with the lowest distance would be elected)\n",
    "Afterwards, 'handover' would predict (in binary) that if the user/vehicle is going to change its assigned BS in the next time step or not. In other words, if 'handover'==1, the user will change its 'BS' in the next timestep."
   ]
  },
  {
   "cell_type": "code",
   "execution_count": 6,
   "id": "e2d4af3e",
   "metadata": {
    "execution": {
     "iopub.execute_input": "2024-03-11T09:48:25.927609Z",
     "iopub.status.busy": "2024-03-11T09:48:25.926544Z",
     "iopub.status.idle": "2024-03-11T09:48:27.790775Z",
     "shell.execute_reply": "2024-03-11T09:48:27.789232Z"
    },
    "papermill": {
     "duration": 1.875864,
     "end_time": "2024-03-11T09:48:27.793887",
     "exception": false,
     "start_time": "2024-03-11T09:48:25.918023",
     "status": "completed"
    },
    "tags": []
   },
   "outputs": [],
   "source": [
    "# Calculate the distance of each vehicle from each BS\n",
    "for bs, (x_bs, y_bs) in BSs.items():\n",
    "    df[bs] = np.sqrt((df['x'] - x_bs)**2 + (df['y'] - y_bs)**2)\n",
    "\n",
    "# Determine the BS to which each vehicle is connected\n",
    "df['BS'] = df[list(BSs.keys())].idxmin(axis=1)\n",
    "\n",
    "# Create the 'handover' variable\n",
    "df['handover'] = (df.groupby('id')['BS'].shift(-1) != df['BS']).astype(int)\n",
    "\n",
    "# Define the features and the target variable\n",
    "X = df[['x', 'y', 'speed', 'angle']]\n",
    "y = df['handover']"
   ]
  },
  {
   "cell_type": "markdown",
   "id": "d0b9cbd4",
   "metadata": {
    "papermill": {
     "duration": 0.008943,
     "end_time": "2024-03-11T09:48:27.810499",
     "exception": false,
     "start_time": "2024-03-11T09:48:27.801556",
     "status": "completed"
    },
    "tags": []
   },
   "source": [
    "Now let's split the data and train the model using Linear Regression (which might not be the best algorithm for this purpose)"
   ]
  },
  {
   "cell_type": "code",
   "execution_count": 7,
   "id": "6480f457",
   "metadata": {
    "execution": {
     "iopub.execute_input": "2024-03-11T09:48:27.826387Z",
     "iopub.status.busy": "2024-03-11T09:48:27.825938Z",
     "iopub.status.idle": "2024-03-11T09:48:33.373963Z",
     "shell.execute_reply": "2024-03-11T09:48:33.372643Z"
    },
    "papermill": {
     "duration": 5.559183,
     "end_time": "2024-03-11T09:48:33.376676",
     "exception": false,
     "start_time": "2024-03-11T09:48:27.817493",
     "status": "completed"
    },
    "tags": []
   },
   "outputs": [
    {
     "data": {
      "text/plain": [
       "0.9895772169733413"
      ]
     },
     "execution_count": 7,
     "metadata": {},
     "output_type": "execute_result"
    }
   ],
   "source": [
    "from sklearn import linear_model\n",
    "# Split the data into training and testing sets\n",
    "X_train, X_test, y_train, y_test = train_test_split(X, y, test_size=0.3, random_state=42)\n",
    "\n",
    "model = linear_model.LogisticRegression(penalty='l2', C=1.0)\n",
    "model.fit(X_train, y_train)\n",
    "# Train the model\n",
    "# model = LinearRegression()\n",
    "# model.fit(X_train, y_train)\n",
    "\n",
    "# Make predictions\n",
    "predictions = model.predict(X_test)\n",
    "model.score(X, y)\n"
   ]
  },
  {
   "cell_type": "code",
   "execution_count": 8,
   "id": "44640b55",
   "metadata": {
    "execution": {
     "iopub.execute_input": "2024-03-11T09:48:33.392757Z",
     "iopub.status.busy": "2024-03-11T09:48:33.392273Z",
     "iopub.status.idle": "2024-03-11T09:48:33.473049Z",
     "shell.execute_reply": "2024-03-11T09:48:33.471741Z"
    },
    "papermill": {
     "duration": 0.094401,
     "end_time": "2024-03-11T09:48:33.478000",
     "exception": false,
     "start_time": "2024-03-11T09:48:33.383599",
     "status": "completed"
    },
    "tags": []
   },
   "outputs": [
    {
     "name": "stdout",
     "output_type": "stream",
     "text": [
      "    time    id        x        y   angle           type  speed    pos  \\\n",
      "0    0.0  veh0   501.42  1473.12    0.29  veh_passenger   0.00   5.10   \n",
      "1    0.0  veh1   647.08  1333.51  271.18  veh_passenger   0.00   5.10   \n",
      "2    1.0  veh0   501.43  1475.08    0.29  veh_passenger   1.96   7.06   \n",
      "3    1.0  veh1   645.29  1333.54  271.18  veh_passenger   1.79   6.89   \n",
      "4    1.0  veh2   441.56  2179.34  183.12  veh_passenger  28.07   5.10   \n",
      "5    2.0  veh0   501.37  1479.55  359.34  veh_passenger   4.44   1.77   \n",
      "6    2.0  veh1   641.53  1333.62  271.18  veh_passenger   3.76  10.65   \n",
      "7    2.0  veh2   440.55  2152.48  181.17  veh_passenger  26.81  31.91   \n",
      "8    2.0  veh3   459.32  1339.70  179.38  veh_passenger   0.00   5.10   \n",
      "9    3.0  veh0   501.11  1485.68  357.64  veh_passenger   6.02   7.80   \n",
      "10   3.0  veh1   636.05  1333.73  271.18  veh_passenger   5.49  16.14   \n",
      "11   3.0  veh2   439.99  2124.88  181.17  veh_passenger  27.53  59.44   \n",
      "12   3.0  veh3   459.34  1337.29  179.38  veh_passenger   2.41   7.51   \n",
      "13   3.0  veh4  1415.96  1675.00  270.97  veh_passenger  17.18   5.10   \n",
      "14   4.0  veh0   500.76  1494.23  357.64  veh_passenger   8.40  16.20   \n",
      "\n",
      "               lane  slope          BS1          BS2          BS3  \\\n",
      "0     378453707#7_0    0.0   576.688084   479.548004   615.515991   \n",
      "1     184443139#0_0    0.0   577.482226   357.180456   416.132839   \n",
      "2     378453707#7_0    0.0   578.320756   481.502801   617.034442   \n",
      "3     184443139#0_0    0.0   576.051319   356.646581   417.198932   \n",
      "4     516417601#0_0    0.0  1213.307341  1188.261653  1266.220088   \n",
      "5   :5863541486_0_0    0.0   582.006002   485.966655   620.558376   \n",
      "6     184443139#0_0    0.0   573.062238   355.568077   419.468103   \n",
      "7     516417601#0_0    0.0  1186.873194  1161.565901  1241.490721   \n",
      "8     620634303#4_0    0.0   444.259191   353.017752   550.793375   \n",
      "9   :5863541486_0_0    0.0   586.980144   492.100285   625.520739   \n",
      "10    184443139#0_0    0.0   568.718283   354.055560   422.808110   \n",
      "11    516417601#0_0    0.0  1159.839325  1134.103958  1215.998692   \n",
      "12    620634303#4_0    0.0   442.402818   350.658486   549.271334   \n",
      "13    184083199#0_2    0.0  1411.311286  1113.816246   860.738181   \n",
      "14  :5863541486_0_0    0.0   593.961097   500.654584   632.468770   \n",
      "\n",
      "            BS4          BS5         BS6         BS7          BS8  \\\n",
      "0    882.751430   347.389636  134.449626  408.620054   753.233363   \n",
      "1    685.749011   467.725121  113.397293  241.759400   596.265690   \n",
      "2    883.806857   348.139514  136.349447  409.240426   753.565382   \n",
      "3    687.320608   465.934877  111.610800  243.546989   598.055019   \n",
      "4   1430.439573   876.747058  841.746076  948.622165  1158.761439   \n",
      "5    886.294708   349.808552  140.707593  410.764817   754.422525   \n",
      "6    690.633641   462.174031  107.857143  247.301427   601.813370   \n",
      "7   1408.850447   850.842900  815.169310  925.507900  1140.230347   \n",
      "8    856.517165   279.890984   74.794838  429.355420   783.960707   \n",
      "9    889.879882   352.014424  146.734984  413.091589   755.813912   \n",
      "10   695.467153   456.692927  102.387910  252.773895   607.291120   \n",
      "11  1386.582257   824.440985  787.824514  901.736378  1121.198480   \n",
      "12   855.530903   279.947110   74.909977  429.358975   783.953607   \n",
      "13   701.890525  1280.389960  942.435958  623.272912   374.498618   \n",
      "14   894.916187   355.256699  155.153311  416.454417   757.820901   \n",
      "\n",
      "            BS9        BS10        BS11        BS12         BS13        BS14  \\\n",
      "0    388.598010  220.012626  444.183749  773.103715   650.811576  566.527007   \n",
      "1    588.443962  374.644436  431.215857  695.005238   846.158522  714.196333   \n",
      "2    387.512304  218.073006  443.218220  772.544788   649.113927  564.569695   \n",
      "3    587.004205  374.079668  432.196441  696.525974   845.145552  713.885611   \n",
      "4    554.503872  497.318405  662.324054  938.891481   297.459451  168.324617   \n",
      "5    384.992857  213.663530  441.113604  771.366854   645.206492  560.110722   \n",
      "6    583.975839  372.902279  434.259072  699.715856   843.011961  713.230324   \n",
      "7    530.488213  471.152956  643.466375  926.072000   284.816234  147.267278   \n",
      "8    448.921082  358.866887  554.560413  858.944448   752.954018  702.990084   \n",
      "9    381.446012  207.648888  438.442204  769.962061   639.770588  554.006684   \n",
      "10   579.581586  371.254183  437.311133  704.378371   839.928354  712.316287   \n",
      "11   506.356648  444.253961  624.357761  913.115627   274.425969  127.570135   \n",
      "12   450.820314  361.220259  556.073467  859.913850   755.199289  705.384354   \n",
      "13  1236.614651  882.044715  527.528642  173.397116  1288.895489  953.959467   \n",
      "14   376.620896  199.269985  434.822100  768.068028   632.216510  545.493303   \n",
      "\n",
      "          BS15         BS16    BS  handover  \n",
      "0   685.453497   932.864753   BS6         0  \n",
      "1   745.429449   923.444762   BS6         0  \n",
      "2   683.831481   931.669766   BS6         0  \n",
      "3   745.983130   924.578553   BS6         0  \n",
      "4   468.701112   813.956260  BS14         0  \n",
      "5   680.186099   929.020312   BS6         0  \n",
      "6   747.142776   926.953971   BS6         0  \n",
      "7   462.332693   810.747736  BS14         0  \n",
      "8   820.333387  1050.330986   BS6         0  \n",
      "9   675.305050   925.552225   BS6         0  \n",
      "10  748.869716   930.437378   BS6         0  \n",
      "11  456.875443   807.893995  BS14         0  \n",
      "12  822.377475  1051.921499   BS6         0  \n",
      "13  640.564012   402.619356  BS12         0  \n",
      "14  668.524252   920.751276   BS6         0  \n",
      "           time       id        x        y   angle           type  speed  \\\n",
      "20          5.0     veh0   500.34  1504.42  357.64  veh_passenger  10.01   \n",
      "54          9.0    veh11  1013.64  1877.93  186.29  veh_passenger  23.81   \n",
      "91         12.0     veh2   439.65  1877.11  177.39  veh_passenger  27.56   \n",
      "119        14.0    veh17  1016.82  1877.58  186.29  veh_passenger  27.53   \n",
      "138        15.0     veh3   460.45  1177.88  179.74  veh_passenger  17.44   \n",
      "...         ...      ...      ...      ...     ...            ...    ...   \n",
      "1483310  8188.0  veh3600   956.13  1178.82  187.62  veh_passenger  21.82   \n",
      "1483321  8192.0  veh2955  1062.75  1213.69   89.30  veh_passenger  14.22   \n",
      "1483356  8204.0  veh2500   160.92  1141.38  294.56  veh_passenger  13.85   \n",
      "1483379  8215.0  veh2955  1389.17  1214.68   89.39  veh_passenger  14.32   \n",
      "1483384  8219.0  veh3600   860.56   830.56  206.07  veh_passenger  11.45   \n",
      "\n",
      "            pos             lane  slope          BS1          BS2         BS3  \\\n",
      "20        26.21  :5863541486_0_0    0.0   602.332670   510.850023  640.802115   \n",
      "54         5.10   -219053199#6_0    0.0  1214.909559  1005.050103  892.044107   \n",
      "91       306.55    516417601#0_0    0.0   919.990613   887.461769  990.096236   \n",
      "119        5.10   -219053199#6_1    0.0  1216.841271  1006.264296  892.148806   \n",
      "138      107.74    620634303#5_0    0.0   335.446979   197.429891  465.756323   \n",
      "...         ...              ...    ...          ...          ...         ...   \n",
      "1483310   15.60     -219096265_0    0.0   798.214099   460.492632  196.106310   \n",
      "1483321    9.56    198564925#1_2    0.0   910.050252   572.260553  279.766554   \n",
      "1483356  249.38     37400087#1_0    0.0   147.861305   400.935803  742.383038   \n",
      "1483379  335.97    198564925#1_1    0.0  1229.566153   882.960935  546.720774   \n",
      "1483384  283.36   -708672701#0_0    0.0   700.609912   365.434153  166.512751   \n",
      "\n",
      "                 BS4          BS5         BS6         BS7          BS8  \\\n",
      "20        900.990266   359.346337  165.205599  420.657217   760.334533   \n",
      "54        912.609539   991.141674  718.667024  549.635579   582.419739   \n",
      "91       1193.519680   594.398892  542.693011  698.009936   965.099239   \n",
      "119       911.475537   993.631152  720.533150  550.026980   580.850964   \n",
      "138       803.975029   325.770714  180.500538  458.836392   799.986080   \n",
      "...              ...          ...         ...         ...          ...   \n",
      "1483310   341.113485   793.784212  452.770463  177.215442   330.614636   \n",
      "1483321   283.818627   892.675218  544.205591  216.672356   221.879693   \n",
      "1483356  1092.250949   202.161804  423.976353  755.075496  1100.917147   \n",
      "1483379   263.976705  1216.479123  864.643593  516.616042   194.093357   \n",
      "1483384   416.422113   852.171380  607.358158  512.901851   639.334958   \n",
      "\n",
      "                 BS9        BS10        BS11         BS12         BS13  \\\n",
      "20        371.043628  189.305240  430.692557   765.932234   623.245857   \n",
      "54        854.948442  514.837172  225.109510   296.290017   849.547115   \n",
      "91        320.087170  208.953244  486.172422   824.961996   306.300490   \n",
      "119       857.975228  517.674267  226.601645   293.609381   852.735926   \n",
      "138       584.762243  518.074094  668.095170   935.840826   905.530586   \n",
      "...              ...         ...         ...          ...          ...   \n",
      "1483310   930.193229  663.450948  516.305511   586.917461  1158.725141   \n",
      "1483321  1003.875027  712.078472  507.782370   510.026101  1208.668497   \n",
      "1483356   549.631026  664.063865  911.791574  1213.772398   897.517451   \n",
      "1483379  1300.010933  978.680496  690.723610   497.874684  1463.712348   \n",
      "1483384  1097.158290  920.024013  860.597792   941.440089  1386.915644   \n",
      "\n",
      "                BS14         BS15         BS16    BS  handover  \n",
      "20        535.348950   660.498374   915.103388   BS6         1  \n",
      "54        505.816938   203.636326   280.323449  BS15         1  \n",
      "91        187.151415   477.208359   819.711223  BS14         1  \n",
      "119       508.943723   205.877081   277.927213  BS15         1  \n",
      "138       863.967319   961.451985  1163.544934   BS6         1  \n",
      "...              ...          ...          ...   ...       ...  \n",
      "1483310   957.889173   862.528776   906.563078   BS7         1  \n",
      "1483321   979.882756   843.182898   844.536020   BS7         1  \n",
      "1483356   971.814863  1155.338558  1405.946921   BS1         1  \n",
      "1483379  1187.535652   964.118517   836.842047   BS8         1  \n",
      "1483384  1251.488265  1208.473108  1267.315325   BS3         1  \n",
      "\n",
      "[15397 rows x 28 columns]\n",
      "Number of rows where 'handover' is 1: 15397\n"
     ]
    }
   ],
   "source": [
    "# Set the display option to show all columns\n",
    "pd.set_option('display.max_columns', None)\n",
    "\n",
    "# Now print the first row\n",
    "print(df.head(15))\n",
    "\n",
    "\n",
    "# Print the rows where 'handover' is 1\n",
    "print(df[df['handover'] == 1])\n",
    "# Count the rows where 'handover' is 1\n",
    "count = df[df['handover'] == 1].shape[0]\n",
    "\n",
    "print(f\"Number of rows where 'handover' is 1: {count}\")"
   ]
  },
  {
   "cell_type": "markdown",
   "id": "2a3eee98",
   "metadata": {
    "papermill": {
     "duration": 0.006843,
     "end_time": "2024-03-11T09:48:33.492049",
     "exception": false,
     "start_time": "2024-03-11T09:48:33.485206",
     "status": "completed"
    },
    "tags": []
   },
   "source": [
    "Check how many handovers we have!"
   ]
  },
  {
   "cell_type": "code",
   "execution_count": 9,
   "id": "4faf6b66",
   "metadata": {
    "execution": {
     "iopub.execute_input": "2024-03-11T09:48:33.508752Z",
     "iopub.status.busy": "2024-03-11T09:48:33.508348Z",
     "iopub.status.idle": "2024-03-11T09:48:33.742268Z",
     "shell.execute_reply": "2024-03-11T09:48:33.741007Z"
    },
    "papermill": {
     "duration": 0.245157,
     "end_time": "2024-03-11T09:48:33.744874",
     "exception": false,
     "start_time": "2024-03-11T09:48:33.499717",
     "status": "completed"
    },
    "tags": []
   },
   "outputs": [
    {
     "data": {
      "image/png": "[encoded data removed]",
      "text/plain": [
       "<Figure size 640x480 with 1 Axes>"
      ]
     },
     "metadata": {},
     "output_type": "display_data"
    }
   ],
   "source": [
    "# Assuming `X_train` and `X_test` are your training and testing data\n",
    "\n",
    "# Calculate the number of samples in each set\n",
    "#based on # Split the data into training and testing sets X_train, X_test, y_train, y_test = train_test_split(X, y, test_size=0.7, random_state=42)\n",
    "\n",
    "num_train_samples = len(X_train)\n",
    "num_test_samples = len(X_test)\n",
    "\n",
    "\n",
    "# Calculate the number of handovers in each set\n",
    "num_train_handovers = np.sum(y_train)\n",
    "num_test_handovers = np.sum(y_test)\n",
    "\n",
    "# Create a bar plot\n",
    "labels = ['Train', 'Test']\n",
    "total_samples = [num_train_samples, num_test_samples]\n",
    "handover_samples = [num_train_handovers, num_test_handovers]\n",
    "\n",
    "x = np.arange(len(labels))  # the label locations\n",
    "width = 0.35  # the width of the bars\n",
    "\n",
    "fig, ax = plt.subplots()\n",
    "rects1 = ax.bar(x - width/2, total_samples, width, label='Total')\n",
    "rects2 = ax.bar(x + width/2, handover_samples, width, label='Handover')\n",
    "\n",
    "# Add some text for labels, title and custom x-axis tick labels, etc.\n",
    "ax.set_ylabel('Number of samples')\n",
    "ax.set_title('Division of data into training and testing sets')\n",
    "ax.set_xticks(x)\n",
    "ax.set_xticklabels(labels)\n",
    "ax.legend()\n",
    "\n",
    "fig.tight_layout()\n",
    "\n",
    "plt.show()"
   ]
  },
  {
   "cell_type": "markdown",
   "id": "2dd580a3",
   "metadata": {
    "papermill": {
     "duration": 0.007889,
     "end_time": "2024-03-11T09:48:33.760326",
     "exception": false,
     "start_time": "2024-03-11T09:48:33.752437",
     "status": "completed"
    },
    "tags": []
   },
   "source": [
    "**Data is highly imbalanced as you can see!**\n"
   ]
  },
  {
   "cell_type": "markdown",
   "id": "b6b6d9b3",
   "metadata": {
    "papermill": {
     "duration": 0.007653,
     "end_time": "2024-03-11T09:48:33.776135",
     "exception": false,
     "start_time": "2024-03-11T09:48:33.768482",
     "status": "completed"
    },
    "tags": []
   },
   "source": [
    "Following 'veh3' when handover==1!"
   ]
  },
  {
   "cell_type": "code",
   "execution_count": 10,
   "id": "dd4eed84",
   "metadata": {
    "execution": {
     "iopub.execute_input": "2024-03-11T09:48:33.795429Z",
     "iopub.status.busy": "2024-03-11T09:48:33.794075Z",
     "iopub.status.idle": "2024-03-11T09:48:33.928967Z",
     "shell.execute_reply": "2024-03-11T09:48:33.927530Z"
    },
    "papermill": {
     "duration": 0.14772,
     "end_time": "2024-03-11T09:48:33.932049",
     "exception": false,
     "start_time": "2024-03-11T09:48:33.784329",
     "status": "completed"
    },
    "tags": []
   },
   "outputs": [
    {
     "name": "stdout",
     "output_type": "stream",
     "text": [
      "     time    id       x        y   angle           type  speed    pos  \\\n",
      "508  31.0  veh3  389.47  1088.11  185.33  veh_passenger   7.82  10.57   \n",
      "539  32.0  veh3  388.61  1078.87  185.33  veh_passenger   9.28  19.84   \n",
      "570  33.0  veh3  391.83  1068.03  146.31  veh_passenger  11.83  31.67   \n",
      "601  34.0  veh3  400.99  1057.61  137.97  veh_passenger  13.89  45.56   \n",
      "632  35.0  veh3  410.94  1046.58  137.97  veh_passenger  14.85  60.42   \n",
      "665  36.0  veh3  420.77  1035.40  139.99  veh_passenger  14.93  75.34   \n",
      "698  37.0  veh3  422.95  1020.84  179.14  veh_passenger  14.87  90.21   \n",
      "\n",
      "            lane  slope         BS1         BS2         BS3         BS4  \\\n",
      "508  176728954_0    0.0  229.867277  172.143215  507.862297  858.901299   \n",
      "539  176728954_0    0.0  225.471333  168.052292  507.092031  858.801250   \n",
      "570  176728954_0    0.0  224.693259  160.023820  502.219762  854.598304   \n",
      "601  176728954_0    0.0  230.308272  147.193774  491.718027  844.632307   \n",
      "632  176728954_0    0.0  237.240713  133.605853  480.535531  833.951301   \n",
      "665  176728954_0    0.0  244.735712  120.379833  469.663224  823.512166   \n",
      "698  176728954_0    0.0  244.905766  114.142325  466.448937  820.741893   \n",
      "\n",
      "            BS5         BS6         BS7         BS8         BS9        BS10  \\\n",
      "508  330.033504  292.773693  560.363508  890.951509  638.140817  619.691878   \n",
      "539  336.677367  301.257199  565.381867  894.457329  646.594476  628.878897   \n",
      "570  347.197625  309.300425  567.700466  894.649311  657.893426  638.705192   \n",
      "601  361.045020  314.607078  564.887798  889.221761  670.733593  646.921680   \n",
      "632  375.861420  320.685478  562.052531  883.438410  684.455184  655.779130   \n",
      "665  390.724542  327.507868  559.779995  878.033250  698.322424  665.018754   \n",
      "698  403.587552  340.488690  566.108372  881.204478  712.744996  679.010358   \n",
      "\n",
      "           BS11         BS12         BS13         BS14         BS15  \\\n",
      "508  782.501661  1045.034057   973.521305   961.529018  1073.698691   \n",
      "539  790.183157  1051.088332   982.362267   970.793425  1082.284912   \n",
      "570  796.593616  1054.834091   993.639658   981.040434  1090.439086   \n",
      "601  799.142209  1053.681824  1005.799204   990.078858  1095.617067   \n",
      "632  801.941481  1052.459271  1018.775947   999.735865  1101.151975   \n",
      "665  805.196984  1051.632506  1031.921115  1009.681595  1107.045240   \n",
      "698  815.843861  1059.076886  1046.587974  1023.912117  1119.348991   \n",
      "\n",
      "            BS16   BS  handover  \n",
      "508  1277.738709  BS2         0  \n",
      "539  1285.199552  BS2         0  \n",
      "570  1291.189750  BS2         0  \n",
      "601  1293.056021  BS2         0  \n",
      "632  1295.027431  BS2         0  \n",
      "665  1297.358049  BS2         0  \n",
      "698  1307.281457  BS2         1  \n"
     ]
    }
   ],
   "source": [
    "print(df[(df['id'] == 'veh3') & (df['time'] > 30.0) & (df['time'] < 50.0)])"
   ]
  },
  {
   "cell_type": "markdown",
   "id": "e72c4bc5",
   "metadata": {
    "papermill": {
     "duration": 0.007665,
     "end_time": "2024-03-11T09:48:33.948148",
     "exception": false,
     "start_time": "2024-03-11T09:48:33.940483",
     "status": "completed"
    },
    "tags": []
   },
   "source": [
    "Now let's evaluate how the linear regression works!\n",
    "\n"
   ]
  },
  {
   "cell_type": "code",
   "execution_count": 11,
   "id": "4099dcde",
   "metadata": {
    "execution": {
     "iopub.execute_input": "2024-03-11T09:48:33.967954Z",
     "iopub.status.busy": "2024-03-11T09:48:33.967399Z",
     "iopub.status.idle": "2024-03-11T09:48:35.978998Z",
     "shell.execute_reply": "2024-03-11T09:48:35.977246Z"
    },
    "papermill": {
     "duration": 2.025539,
     "end_time": "2024-03-11T09:48:35.982448",
     "exception": false,
     "start_time": "2024-03-11T09:48:33.956909",
     "status": "completed"
    },
    "tags": []
   },
   "outputs": [
    {
     "name": "stdout",
     "output_type": "stream",
     "text": [
      "MAE: 0.010494004709943014\n",
      "MSE: 0.010494004709943014\n",
      "RMSE: 0.10244024946251847\n",
      "R2: -0.016203292474368913\n",
      "\n",
      "---------------------------\n",
      "\n",
      "Confusion Matrix:\n",
      " [[440346     26]\n",
      " [  4644      0]]\n",
      "Precision: 0.0\n",
      "Recall: 0.0\n",
      "F1 Score: 0.0\n",
      "AUC-ROC: 0.49997047950369233\n"
     ]
    }
   ],
   "source": [
    "from sklearn import metrics\n",
    "\n",
    "# Make predictions\n",
    "#predictions = model.predict(X_test)\n",
    "\n",
    "# Calculate metrics\n",
    "mae = metrics.mean_absolute_error(y_test, predictions)\n",
    "mse = metrics.mean_squared_error(y_test, predictions)\n",
    "rmse = np.sqrt(mse) # or mse**(0.5)\n",
    "r2 = metrics.r2_score(y_test, predictions)\n",
    "\n",
    "print(f\"MAE: {mae}\")\n",
    "print(f\"MSE: {mse}\")\n",
    "print(f\"RMSE: {rmse}\")\n",
    "print(f\"R2: {r2}\")\n",
    "print(\"\\n---------------------------\\n\")\n",
    "\n",
    "# Binarize the predictions\n",
    "predictions_bin = [1 if p > 0.5 else 0 for p in predictions]\n",
    "\n",
    "# Calculate metrics\n",
    "confusion_matrix = metrics.confusion_matrix(y_test, predictions_bin)\n",
    "precision = metrics.precision_score(y_test, predictions_bin)\n",
    "recall = metrics.recall_score(y_test, predictions_bin)\n",
    "f1_score = metrics.f1_score(y_test, predictions_bin)\n",
    "auc_roc = metrics.roc_auc_score(y_test, predictions)\n",
    "\n",
    "print(f\"Confusion Matrix:\\n {confusion_matrix}\")\n",
    "print(f\"Precision: {precision}\")\n",
    "print(f\"Recall: {recall}\")\n",
    "print(f\"F1 Score: {f1_score}\")\n",
    "print(f\"AUC-ROC: {auc_roc}\")"
   ]
  },
  {
   "cell_type": "markdown",
   "id": "9630257a",
   "metadata": {
    "papermill": {
     "duration": 0.007507,
     "end_time": "2024-03-11T09:48:35.998186",
     "exception": false,
     "start_time": "2024-03-11T09:48:35.990679",
     "status": "completed"
    },
    "tags": []
   },
   "source": [
    "Now let's output the whole dataset for linear regression! clearly we did not achieve our goal here!"
   ]
  },
  {
   "cell_type": "code",
   "execution_count": 12,
   "id": "ca235cb2",
   "metadata": {
    "execution": {
     "iopub.execute_input": "2024-03-11T09:48:36.016989Z",
     "iopub.status.busy": "2024-03-11T09:48:36.016529Z",
     "iopub.status.idle": "2024-03-11T09:49:27.893647Z",
     "shell.execute_reply": "2024-03-11T09:49:27.892312Z"
    },
    "papermill": {
     "duration": 51.890826,
     "end_time": "2024-03-11T09:49:27.896966",
     "exception": false,
     "start_time": "2024-03-11T09:48:36.006140",
     "status": "completed"
    },
    "tags": []
   },
   "outputs": [],
   "source": [
    "# Store the DataFrame to a CSV file\n",
    "df.to_csv('output_sparse_linear_regression.csv', index=False)"
   ]
  }
 ],
 "metadata": {
  "kaggle": {
   "accelerator": "none",
   "dataSources": [
    {
     "datasetId": 4447430,
     "sourceId": 7632461,
     "sourceType": "datasetVersion"
    }
   ],
   "dockerImageVersionId": 30646,
   "isGpuEnabled": false,
   "isInternetEnabled": false,
   "language": "python",
   "sourceType": "notebook"
  },
  "kernelspec": {
   "display_name": "Python 3",
   "language": "python",
   "name": "python3"
  },
  "language_info": {
   "codemirror_mode": {
    "name": "ipython",
    "version": 3
   },
   "file_extension": ".py",
   "mimetype": "text/x-python",
   "name": "python",
   "nbconvert_exporter": "python",
   "pygments_lexer": "ipython3",
   "version": "3.10.13"
  },
  "papermill": {
   "default_parameters": {},
   "duration": 76.162898,
   "end_time": "2024-03-11T09:49:28.733420",
   "environment_variables": {},
   "exception": null,
   "input_path": "__notebook__.ipynb",
   "output_path": "__notebook__.ipynb",
   "parameters": {},
   "start_time": "2024-03-11T09:48:12.570522",
   "version": "2.5.0"
  }
 },
 "nbformat": 4,
 "nbformat_minor": 5
}
